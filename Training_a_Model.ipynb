{
  "cells": [
    {
      "cell_type": "markdown",
      "metadata": {
        "id": "QDyUEs6oTOSq"
      },
      "source": [
        "# Plagiarism Detection Model\n",
        "\n"
      ]
    },
    {
      "cell_type": "code",
      "execution_count": null,
      "metadata": {
        "id": "trDztPbGTOSt"
      },
      "outputs": [],
      "source": [
        "import pandas as pd\n",
        "import boto3\n",
        "import sagemaker"
      ]
    },
    {
      "cell_type": "code",
      "execution_count": null,
      "metadata": {
        "id": "RO09I5CPTOSu"
      },
      "outputs": [],
      "source": [
        "# session and role\n",
        "sagemaker_session = sagemaker.Session()\n",
        "role = sagemaker.get_execution_role()\n",
        "\n",
        "# create an S3 bucket\n",
        "bucket = sagemaker_session.default_bucket()"
      ]
    },
    {
      "cell_type": "code",
      "execution_count": null,
      "metadata": {
        "id": "cXNBnlKgTOSu",
        "outputId": "079fbf50-1793-4272-da29-1c100976999c"
      },
      "outputs": [
        {
          "name": "stdout",
          "output_type": "stream",
          "text": [
            "sagemaker-us-east-2-212613453703\n"
          ]
        }
      ],
      "source": [
        "print(bucket)"
      ]
    },
    {
      "cell_type": "code",
      "execution_count": null,
      "metadata": {
        "id": "eqf9FmqoTOSv",
        "outputId": "2c08b149-2eac-47ee-a1a9-c4a82ba755bf"
      },
      "outputs": [
        {
          "name": "stdout",
          "output_type": "stream",
          "text": [
            "s3://sagemaker-us-east-2-212613453703/plagiarism-data\n"
          ]
        }
      ],
      "source": [
        "# should be the name of directory you created to save your features data\n",
        "data_dir = 'plagiarism_data'\n",
        "\n",
        "# set prefix, a descriptive name for a directory\n",
        "prefix = 'plagiarism-data'\n",
        "\n",
        "# upload all data to S3\n",
        "input_data = sagemaker_session.upload_data(path=data_dir, bucket=bucket, key_prefix=prefix)\n",
        "print(input_data)"
      ]
    },
    {
      "cell_type": "markdown",
      "metadata": {
        "id": "3Wxhbd2ETOSv"
      },
      "source": [
        "### Test cell\n",
        "\n",
        "Test that your data has been successfully uploaded. The below cell prints out the items in your S3 bucket and will throw an error if it is empty. You should see the contents of your `data_dir` and perhaps some checkpoints. If you see any other files listed, then you may have some old model files that you can delete via the S3 console (though, additional files shouldn't affect the performance of model developed in this notebook)."
      ]
    },
    {
      "cell_type": "code",
      "execution_count": null,
      "metadata": {
        "id": "R3LakmOYTOSv",
        "outputId": "8d17c2a1-2c06-491b-a335-5a3b45847f74"
      },
      "outputs": [
        {
          "name": "stdout",
          "output_type": "stream",
          "text": [
            "plagiarism-data/test.csv\n",
            "plagiarism-data/train.csv\n",
            "Test passed!\n"
          ]
        }
      ],
      "source": [
        "# confirm that data is in S3 bucket\n",
        "empty_check = []\n",
        "for obj in boto3.resource('s3').Bucket(bucket).objects.all():\n",
        "    empty_check.append(obj.key)\n",
        "    print(obj.key)\n",
        "\n",
        "assert len(empty_check) !=0, 'S3 bucket is empty.'\n",
        "print('Test passed!')"
      ]
    },
    {
      "cell_type": "code",
      "execution_count": null,
      "metadata": {
        "id": "D7KHmcC5TOSv",
        "outputId": "f69a3129-821a-4f06-9ed1-6eecfa4fc437"
      },
      "outputs": [
        {
          "name": "stdout",
          "output_type": "stream",
          "text": [
            "\u001b[34mfrom\u001b[39;49;00m \u001b[04m\u001b[36m__future__\u001b[39;49;00m \u001b[34mimport\u001b[39;49;00m print_function\n",
            "\n",
            "\u001b[34mimport\u001b[39;49;00m \u001b[04m\u001b[36margparse\u001b[39;49;00m\n",
            "\u001b[34mimport\u001b[39;49;00m \u001b[04m\u001b[36mos\u001b[39;49;00m\n",
            "\u001b[34mimport\u001b[39;49;00m \u001b[04m\u001b[36mpandas\u001b[39;49;00m \u001b[34mas\u001b[39;49;00m \u001b[04m\u001b[36mpd\u001b[39;49;00m\n",
            "\n",
            "\u001b[34mfrom\u001b[39;49;00m \u001b[04m\u001b[36msklearn.externals\u001b[39;49;00m \u001b[34mimport\u001b[39;49;00m joblib\n",
            "\n",
            "\u001b[37m## TODO: Import any additional libraries you need to define a model\u001b[39;49;00m\n",
            "\n",
            "\n",
            "\u001b[37m# Provided model load function\u001b[39;49;00m\n",
            "\u001b[34mdef\u001b[39;49;00m \u001b[32mmodel_fn\u001b[39;49;00m(model_dir):\n",
            "    \u001b[33m\"\"\"Load model from the model_dir. This is the same model that is saved\u001b[39;49;00m\n",
            "\u001b[33m    in the main if statement.\u001b[39;49;00m\n",
            "\u001b[33m    \"\"\"\u001b[39;49;00m\n",
            "    \u001b[34mprint\u001b[39;49;00m(\u001b[33m\"\u001b[39;49;00m\u001b[33mLoading model.\u001b[39;49;00m\u001b[33m\"\u001b[39;49;00m)\n",
            "    \n",
            "    \u001b[37m# load using joblib\u001b[39;49;00m\n",
            "    model = joblib.load(os.path.join(model_dir, \u001b[33m\"\u001b[39;49;00m\u001b[33mmodel.joblib\u001b[39;49;00m\u001b[33m\"\u001b[39;49;00m))\n",
            "    \u001b[34mprint\u001b[39;49;00m(\u001b[33m\"\u001b[39;49;00m\u001b[33mDone loading model.\u001b[39;49;00m\u001b[33m\"\u001b[39;49;00m)\n",
            "    \n",
            "    \u001b[34mreturn\u001b[39;49;00m model\n",
            "\n",
            "\n",
            "\u001b[37m## TODO: Complete the main code\u001b[39;49;00m\n",
            "\u001b[34mif\u001b[39;49;00m \u001b[31m__name__\u001b[39;49;00m == \u001b[33m'\u001b[39;49;00m\u001b[33m__main__\u001b[39;49;00m\u001b[33m'\u001b[39;49;00m:\n",
            "    \n",
            "    \u001b[37m# All of the model parameters and training parameters are sent as arguments\u001b[39;49;00m\n",
            "    \u001b[37m# when this script is executed, during a training job\u001b[39;49;00m\n",
            "    \n",
            "    \u001b[37m# Here we set up an argument parser to easily access the parameters\u001b[39;49;00m\n",
            "    parser = argparse.ArgumentParser()\n",
            "\n",
            "    \u001b[37m# SageMaker parameters, like the directories for training data and saving models; set automatically\u001b[39;49;00m\n",
            "    \u001b[37m# Do not need to change\u001b[39;49;00m\n",
            "    parser.add_argument(\u001b[33m'\u001b[39;49;00m\u001b[33m--output-data-dir\u001b[39;49;00m\u001b[33m'\u001b[39;49;00m, \u001b[36mtype\u001b[39;49;00m=\u001b[36mstr\u001b[39;49;00m, default=os.environ[\u001b[33m'\u001b[39;49;00m\u001b[33mSM_OUTPUT_DATA_DIR\u001b[39;49;00m\u001b[33m'\u001b[39;49;00m])\n",
            "    parser.add_argument(\u001b[33m'\u001b[39;49;00m\u001b[33m--model-dir\u001b[39;49;00m\u001b[33m'\u001b[39;49;00m, \u001b[36mtype\u001b[39;49;00m=\u001b[36mstr\u001b[39;49;00m, default=os.environ[\u001b[33m'\u001b[39;49;00m\u001b[33mSM_MODEL_DIR\u001b[39;49;00m\u001b[33m'\u001b[39;49;00m])\n",
            "    parser.add_argument(\u001b[33m'\u001b[39;49;00m\u001b[33m--data-dir\u001b[39;49;00m\u001b[33m'\u001b[39;49;00m, \u001b[36mtype\u001b[39;49;00m=\u001b[36mstr\u001b[39;49;00m, default=os.environ[\u001b[33m'\u001b[39;49;00m\u001b[33mSM_CHANNEL_TRAIN\u001b[39;49;00m\u001b[33m'\u001b[39;49;00m])\n",
            "    \n",
            "    \u001b[37m## TODO: Add any additional arguments that you will need to pass into your model\u001b[39;49;00m\n",
            "    \n",
            "    \u001b[37m# args holds all passed-in arguments\u001b[39;49;00m\n",
            "    args = parser.parse_args()\n",
            "\n",
            "    \u001b[37m# Read in csv training file\u001b[39;49;00m\n",
            "    training_dir = args.data_dir\n",
            "    train_data = pd.read_csv(os.path.join(training_dir, \u001b[33m\"\u001b[39;49;00m\u001b[33mtrain.csv\u001b[39;49;00m\u001b[33m\"\u001b[39;49;00m), header=\u001b[36mNone\u001b[39;49;00m, names=\u001b[36mNone\u001b[39;49;00m)\n",
            "\n",
            "    \u001b[37m# Labels are in the first column\u001b[39;49;00m\n",
            "    train_y = train_data.iloc[:,\u001b[34m0\u001b[39;49;00m]\n",
            "    train_x = train_data.iloc[:,\u001b[34m1\u001b[39;49;00m:]\n",
            "    \n",
            "    \n",
            "    \u001b[37m## --- Your code here --- ##\u001b[39;49;00m\n",
            "    \n",
            "\n",
            "    \u001b[37m## TODO: Define a model \u001b[39;49;00m\n",
            "    model = \u001b[36mNone\u001b[39;49;00m\n",
            "    \n",
            "    \n",
            "    \u001b[37m## TODO: Train the model\u001b[39;49;00m\n",
            "    \n",
            "    \n",
            "    \n",
            "    \u001b[37m## --- End of your code  --- ##\u001b[39;49;00m\n",
            "    \n",
            "\n",
            "    \u001b[37m# Save the trained model\u001b[39;49;00m\n",
            "    joblib.dump(model, os.path.join(args.model_dir, \u001b[33m\"\u001b[39;49;00m\u001b[33mmodel.joblib\u001b[39;49;00m\u001b[33m\"\u001b[39;49;00m))\n"
          ]
        }
      ],
      "source": [
        "# directory can be changed to: source_sklearn or source_pytorch\n",
        "!pygmentize source_sklearn/train.py"
      ]
    },
    {
      "cell_type": "code",
      "execution_count": null,
      "metadata": {
        "id": "Zz1tnUorTOSw"
      },
      "outputs": [],
      "source": [
        "# your import and estimator code, here\n",
        "from sagemaker.sklearn.estimator import SKLearn\n",
        "\n",
        "estimator = SKLearn(entry_point=\"train.py\",\n",
        "                    source_dir=\"source_sklearn\",\n",
        "                    role=role,\n",
        "                    train_instance_count=1,\n",
        "                    train_instance_type='ml.c4.xlarge')"
      ]
    },
    {
      "cell_type": "markdown",
      "metadata": {
        "id": "c6PLQ_43TOSw"
      },
      "source": [
        "##Training the estimator\n",
        "\n"
      ]
    },
    {
      "cell_type": "code",
      "execution_count": null,
      "metadata": {
        "id": "tv3DEfqrTOSw",
        "outputId": "afe91c59-8a0f-43e6-8a2b-80bc7e6a82c6"
      },
      "outputs": [
        {
          "name": "stdout",
          "output_type": "stream",
          "text": [
            "2019-12-02 19:07:07 Starting - Starting the training job...\n",
            "2019-12-02 19:07:08 Starting - Launching requested ML instances...\n",
            "2019-12-02 19:08:06 Starting - Preparing the instances for training......\n",
            "2019-12-02 19:09:01 Downloading - Downloading input data\n",
            "2019-12-02 19:09:01 Training - Downloading the training image..\u001b[31m2019-12-02 19:09:16,454 sagemaker-containers INFO     Imported framework sagemaker_sklearn_container.training\u001b[0m\n",
            "\u001b[31m2019-12-02 19:09:16,456 sagemaker-containers INFO     No GPUs detected (normal if no gpus installed)\u001b[0m\n",
            "\u001b[31m2019-12-02 19:09:16,466 sagemaker_sklearn_container.training INFO     Invoking user training script.\u001b[0m\n",
            "\u001b[31m2019-12-02 19:09:16,742 sagemaker-containers INFO     Module train does not provide a setup.py. \u001b[0m\n",
            "\u001b[31mGenerating setup.py\u001b[0m\n",
            "\u001b[31m2019-12-02 19:09:16,743 sagemaker-containers INFO     Generating setup.cfg\u001b[0m\n",
            "\u001b[31m2019-12-02 19:09:16,743 sagemaker-containers INFO     Generating MANIFEST.in\u001b[0m\n",
            "\u001b[31m2019-12-02 19:09:16,743 sagemaker-containers INFO     Installing module with the following command:\u001b[0m\n",
            "\u001b[31m/miniconda3/bin/python -m pip install . \u001b[0m\n",
            "\u001b[31mProcessing /opt/ml/code\u001b[0m\n",
            "\u001b[31mBuilding wheels for collected packages: train\n",
            "  Building wheel for train (setup.py): started\n",
            "  Building wheel for train (setup.py): finished with status 'done'\n",
            "  Created wheel for train: filename=train-1.0.0-py2.py3-none-any.whl size=5830 sha256=ca7843f3590da336773e42bbc47d3918344617e71261806b2904a358e813d854\n",
            "  Stored in directory: /tmp/pip-ephem-wheel-cache-6osuy5i2/wheels/35/24/16/37574d11bf9bde50616c67372a334f94fa8356bc7164af8ca3\u001b[0m\n",
            "\u001b[31mSuccessfully built train\u001b[0m\n",
            "\u001b[31mInstalling collected packages: train\u001b[0m\n",
            "\u001b[31mSuccessfully installed train-1.0.0\u001b[0m\n",
            "\u001b[31m2019-12-02 19:09:18,011 sagemaker-containers INFO     No GPUs detected (normal if no gpus installed)\u001b[0m\n",
            "\u001b[31m2019-12-02 19:09:18,022 sagemaker-containers INFO     Invoking user script\n",
            "\u001b[0m\n",
            "\u001b[31mTraining Env:\n",
            "\u001b[0m\n",
            "\u001b[31m{\n",
            "    \"additional_framework_parameters\": {},\n",
            "    \"channel_input_dirs\": {\n",
            "        \"train\": \"/opt/ml/input/data/train\"\n",
            "    },\n",
            "    \"current_host\": \"algo-1\",\n",
            "    \"framework_module\": \"sagemaker_sklearn_container.training:main\",\n",
            "    \"hosts\": [\n",
            "        \"algo-1\"\n",
            "    ],\n",
            "    \"hyperparameters\": {},\n",
            "    \"input_config_dir\": \"/opt/ml/input/config\",\n",
            "    \"input_data_config\": {\n",
            "        \"train\": {\n",
            "            \"TrainingInputMode\": \"File\",\n",
            "            \"S3DistributionType\": \"FullyReplicated\",\n",
            "            \"RecordWrapperType\": \"None\"\n",
            "        }\n",
            "    },\n",
            "    \"input_dir\": \"/opt/ml/input\",\n",
            "    \"is_master\": true,\n",
            "    \"job_name\": \"sagemaker-scikit-learn-2019-12-02-19-07-07-001\",\n",
            "    \"log_level\": 20,\n",
            "    \"master_hostname\": \"algo-1\",\n",
            "    \"model_dir\": \"/opt/ml/model\",\n",
            "    \"module_dir\": \"s3://sagemaker-us-east-2-212613453703/sagemaker-scikit-learn-2019-12-02-19-07-07-001/source/sourcedir.tar.gz\",\n",
            "    \"module_name\": \"train\",\n",
            "    \"network_interface_name\": \"eth0\",\n",
            "    \"num_cpus\": 4,\n",
            "    \"num_gpus\": 0,\n",
            "    \"output_data_dir\": \"/opt/ml/output/data\",\n",
            "    \"output_dir\": \"/opt/ml/output\",\n",
            "    \"output_intermediate_dir\": \"/opt/ml/output/intermediate\",\n",
            "    \"resource_config\": {\n",
            "        \"current_host\": \"algo-1\",\n",
            "        \"hosts\": [\n",
            "            \"algo-1\"\n",
            "        ],\n",
            "        \"network_interface_name\": \"eth0\"\n",
            "    },\n",
            "    \"user_entry_point\": \"train.py\"\u001b[0m\n",
            "\u001b[31m}\n",
            "\u001b[0m\n",
            "\u001b[31mEnvironment variables:\n",
            "\u001b[0m\n",
            "\u001b[31mSM_HOSTS=[\"algo-1\"]\u001b[0m\n",
            "\u001b[31mSM_NETWORK_INTERFACE_NAME=eth0\u001b[0m\n",
            "\u001b[31mSM_HPS={}\u001b[0m\n",
            "\u001b[31mSM_USER_ENTRY_POINT=train.py\u001b[0m\n",
            "\u001b[31mSM_FRAMEWORK_PARAMS={}\u001b[0m\n",
            "\u001b[31mSM_RESOURCE_CONFIG={\"current_host\":\"algo-1\",\"hosts\":[\"algo-1\"],\"network_interface_name\":\"eth0\"}\u001b[0m\n",
            "\u001b[31mSM_INPUT_DATA_CONFIG={\"train\":{\"RecordWrapperType\":\"None\",\"S3DistributionType\":\"FullyReplicated\",\"TrainingInputMode\":\"File\"}}\u001b[0m\n",
            "\u001b[31mSM_OUTPUT_DATA_DIR=/opt/ml/output/data\u001b[0m\n",
            "\u001b[31mSM_CHANNELS=[\"train\"]\u001b[0m\n",
            "\u001b[31mSM_CURRENT_HOST=algo-1\u001b[0m\n",
            "\u001b[31mSM_MODULE_NAME=train\u001b[0m\n",
            "\u001b[31mSM_LOG_LEVEL=20\u001b[0m\n",
            "\u001b[31mSM_FRAMEWORK_MODULE=sagemaker_sklearn_container.training:main\u001b[0m\n",
            "\u001b[31mSM_INPUT_DIR=/opt/ml/input\u001b[0m\n",
            "\u001b[31mSM_INPUT_CONFIG_DIR=/opt/ml/input/config\u001b[0m\n",
            "\u001b[31mSM_OUTPUT_DIR=/opt/ml/output\u001b[0m\n",
            "\u001b[31mSM_NUM_CPUS=4\u001b[0m\n",
            "\u001b[31mSM_NUM_GPUS=0\u001b[0m\n",
            "\u001b[31mSM_MODEL_DIR=/opt/ml/model\u001b[0m\n",
            "\u001b[31mSM_MODULE_DIR=s3://sagemaker-us-east-2-212613453703/sagemaker-scikit-learn-2019-12-02-19-07-07-001/source/sourcedir.tar.gz\u001b[0m\n",
            "\u001b[31mSM_TRAINING_ENV={\"additional_framework_parameters\":{},\"channel_input_dirs\":{\"train\":\"/opt/ml/input/data/train\"},\"current_host\":\"algo-1\",\"framework_module\":\"sagemaker_sklearn_container.training:main\",\"hosts\":[\"algo-1\"],\"hyperparameters\":{},\"input_config_dir\":\"/opt/ml/input/config\",\"input_data_config\":{\"train\":{\"RecordWrapperType\":\"None\",\"S3DistributionType\":\"FullyReplicated\",\"TrainingInputMode\":\"File\"}},\"input_dir\":\"/opt/ml/input\",\"is_master\":true,\"job_name\":\"sagemaker-scikit-learn-2019-12-02-19-07-07-001\",\"log_level\":20,\"master_hostname\":\"algo-1\",\"model_dir\":\"/opt/ml/model\",\"module_dir\":\"s3://sagemaker-us-east-2-212613453703/sagemaker-scikit-learn-2019-12-02-19-07-07-001/source/sourcedir.tar.gz\",\"module_name\":\"train\",\"network_interface_name\":\"eth0\",\"num_cpus\":4,\"num_gpus\":0,\"output_data_dir\":\"/opt/ml/output/data\",\"output_dir\":\"/opt/ml/output\",\"output_intermediate_dir\":\"/opt/ml/output/intermediate\",\"resource_config\":{\"current_host\":\"algo-1\",\"hosts\":[\"algo-1\"],\"network_interface_name\":\"eth0\"},\"user_entry_point\":\"train.py\"}\u001b[0m\n",
            "\u001b[31mSM_USER_ARGS=[]\u001b[0m\n",
            "\u001b[31mSM_OUTPUT_INTERMEDIATE_DIR=/opt/ml/output/intermediate\u001b[0m\n",
            "\u001b[31mSM_CHANNEL_TRAIN=/opt/ml/input/data/train\u001b[0m\n",
            "\u001b[31mPYTHONPATH=/miniconda3/bin:/miniconda3/lib/python37.zip:/miniconda3/lib/python3.7:/miniconda3/lib/python3.7/lib-dynload:/miniconda3/lib/python3.7/site-packages\n",
            "\u001b[0m\n",
            "\u001b[31mInvoking script with the following command:\n",
            "\u001b[0m\n",
            "\u001b[31m/miniconda3/bin/python -m train\n",
            "\n",
            "\u001b[0m\n",
            "\u001b[31m/miniconda3/lib/python3.7/site-packages/sklearn/externals/joblib/externals/cloudpickle/cloudpickle.py:47: DeprecationWarning: the imp module is deprecated in favour of importlib; see the module's documentation for alternative uses\n",
            "  import imp\u001b[0m\n",
            "\u001b[31m/miniconda3/lib/python3.7/site-packages/sklearn/linear_model/logistic.py:432: FutureWarning: Default solver will be changed to 'lbfgs' in 0.22. Specify a solver to silence this warning.\n",
            "  FutureWarning)\u001b[0m\n",
            "\u001b[31m2019-12-02 19:09:19,296 sagemaker-containers INFO     Reporting training SUCCESS\u001b[0m\n",
            "\n",
            "2019-12-02 19:09:27 Uploading - Uploading generated training model\n",
            "2019-12-02 19:09:27 Completed - Training job completed\n",
            "Training seconds: 40\n",
            "Billable seconds: 40\n",
            "CPU times: user 412 ms, sys: 13.6 ms, total: 426 ms\n",
            "Wall time: 2min 41s\n"
          ]
        }
      ],
      "source": [
        "%%time\n",
        "\n",
        "# Train your estimator on S3 training data\n",
        "estimator.fit({'train': input_data})"
      ]
    },
    {
      "cell_type": "code",
      "execution_count": null,
      "metadata": {
        "id": "LUYr71kXTOSw",
        "outputId": "f00d2da8-8fe6-4b2a-c304-a46c4a419ec9"
      },
      "outputs": [
        {
          "name": "stdout",
          "output_type": "stream",
          "text": [
            "-------------------------------------------------------------------------------------------------!CPU times: user 519 ms, sys: 28.8 ms, total: 548 ms\n",
            "Wall time: 8min 9s\n"
          ]
        }
      ],
      "source": [
        "%%time\n",
        "\n",
        "# uncomment, if needed\n",
        "# from sagemaker.pytorch import PyTorchModel\n",
        "\n",
        "\n",
        "# deploy your model to create a predictor\n",
        "predictor = estimator.deploy(initial_instance_count=1, instance_type='ml.t2.medium')"
      ]
    },
    {
      "cell_type": "markdown",
      "metadata": {
        "id": "OYm7ZIs-TOSw"
      },
      "source": [
        "---\n",
        "# Evaluation\n",
        "\n"
      ]
    },
    {
      "cell_type": "code",
      "execution_count": null,
      "metadata": {
        "id": "kXXC95jvTOSx"
      },
      "outputs": [],
      "source": [
        "import os\n",
        "\n",
        "# read in test data, assuming it is stored locally\n",
        "test_data = pd.read_csv(os.path.join(data_dir, \"test.csv\"), header=None, names=None)\n",
        "\n",
        "# labels are in the first column\n",
        "test_y = test_data.iloc[:,0]\n",
        "test_x = test_data.iloc[:,1:]"
      ]
    },
    {
      "cell_type": "code",
      "execution_count": null,
      "metadata": {
        "id": "oKWw6nIMTOSx",
        "outputId": "92c3432e-2cc7-4155-f4d3-2ad736368bc3"
      },
      "outputs": [
        {
          "name": "stdout",
          "output_type": "stream",
          "text": [
            "Test passed!\n"
          ]
        }
      ],
      "source": [
        "# First: generate predicted, class labels\n",
        "test_y_preds = predictor.predict(test_x)\n",
        "\n",
        "# test that your model generates the correct number of labels\n",
        "assert len(test_y_preds)==len(test_y), 'Unexpected number of predictions.'\n",
        "print('Test passed!')"
      ]
    },
    {
      "cell_type": "code",
      "execution_count": null,
      "metadata": {
        "id": "96i1gDdXTOSx",
        "outputId": "41f7f58d-83a8-43b4-bd73-af19291382b8"
      },
      "outputs": [
        {
          "name": "stdout",
          "output_type": "stream",
          "text": [
            "0.96\n",
            "\n",
            "Predicted class labels: \n",
            "[1 1 1 1 1 1 0 0 0 0 0 0 1 1 1 1 1 1 0 1 1 1 1 0 0]\n",
            "\n",
            "True class labels: \n",
            "[1 1 1 1 1 1 0 0 0 0 0 0 1 1 1 1 1 1 0 1 0 1 1 0 0]\n"
          ]
        }
      ],
      "source": [
        "# Second: calculate the test accuracy\n",
        "from sklearn.metrics import accuracy_score\n",
        "\n",
        "accuracy = accuracy_score(test_y, test_y_preds)\n",
        "\n",
        "print(accuracy)\n",
        "\n",
        "\n",
        "## print out the array of predicted and true labels, if you want\n",
        "print('\\nPredicted class labels: ')\n",
        "print(test_y_preds)\n",
        "print('\\nTrue class labels: ')\n",
        "print(test_y.values)"
      ]
    },
    {
      "cell_type": "markdown",
      "metadata": {
        "id": "v53ciwTgTOSx"
      },
      "source": [
        "### Inference : false positives and false negatives of our model produce"
      ]
    },
    {
      "cell_type": "code",
      "execution_count": null,
      "metadata": {
        "id": "L5Kf8bPOTOSx",
        "outputId": "01922719-f8f2-40d4-a6af-a3216ab01712"
      },
      "outputs": [
        {
          "data": {
            "text/plain": [
              "array([[ 9,  1],\n",
              "       [ 0, 15]])"
            ]
          },
          "execution_count": 15,
          "metadata": {},
          "output_type": "execute_result"
        }
      ],
      "source": [
        "# Create confusion matrix of true labels and predicted labels\n",
        "from sklearn.metrics import confusion_matrix\n",
        "confusion_matrix(test_y, test_y_preds)"
      ]
    },
    {
      "cell_type": "markdown",
      "metadata": {
        "id": "1IqdaDvQTOSx"
      },
      "source": [
        "**In the binary case, we can extract true negatives, false positives, false negatives & true positives as follows:**"
      ]
    },
    {
      "cell_type": "code",
      "execution_count": null,
      "metadata": {
        "id": "ACt3UcIKTOSx",
        "outputId": "a006b783-31b1-4c5c-b6a3-c7ba84de71cb"
      },
      "outputs": [
        {
          "name": "stdout",
          "output_type": "stream",
          "text": [
            "False Postives: 1\n",
            "False Negatives: 0\n"
          ]
        }
      ],
      "source": [
        "# Calculate tn, fp, fn, tp from confusion matrix\n",
        "tn, fp, fn, tp = confusion_matrix(test_y, test_y_preds).ravel()\n",
        "print('False Postives: {}'.format(fp))\n",
        "print('False Negatives: {}'.format(fn))"
      ]
    },
    {
      "cell_type": "code",
      "execution_count": null,
      "metadata": {
        "id": "IK4yvfHqTOSx"
      },
      "outputs": [],
      "source": [
        "# Create dataframe of test data with predicted labels\n",
        "test_pred_df = pd.concat([test_data,pd.DataFrame(test_y_preds)], axis=1)\n",
        "test_pred_df.columns = ['true_label', 'c_1', 'c_5', 'lcs_word', 'pred_label']"
      ]
    },
    {
      "cell_type": "code",
      "execution_count": null,
      "metadata": {
        "id": "2umiAvURTOSy",
        "outputId": "e010b29b-8f4b-4004-f846-75d952d67301"
      },
      "outputs": [
        {
          "data": {
            "text/html": [
              "<div>\n",
              "<style scoped>\n",
              "    .dataframe tbody tr th:only-of-type {\n",
              "        vertical-align: middle;\n",
              "    }\n",
              "\n",
              "    .dataframe tbody tr th {\n",
              "        vertical-align: top;\n",
              "    }\n",
              "\n",
              "    .dataframe thead th {\n",
              "        text-align: right;\n",
              "    }\n",
              "</style>\n",
              "<table border=\"1\" class=\"dataframe\">\n",
              "  <thead>\n",
              "    <tr style=\"text-align: right;\">\n",
              "      <th></th>\n",
              "      <th>true_label</th>\n",
              "      <th>c_1</th>\n",
              "      <th>c_5</th>\n",
              "      <th>lcs_word</th>\n",
              "      <th>pred_label</th>\n",
              "    </tr>\n",
              "  </thead>\n",
              "  <tbody>\n",
              "    <tr>\n",
              "      <th>0</th>\n",
              "      <td>1</td>\n",
              "      <td>1.000000</td>\n",
              "      <td>0.922280</td>\n",
              "      <td>0.820755</td>\n",
              "      <td>1</td>\n",
              "    </tr>\n",
              "    <tr>\n",
              "      <th>1</th>\n",
              "      <td>1</td>\n",
              "      <td>0.765306</td>\n",
              "      <td>0.589655</td>\n",
              "      <td>0.621711</td>\n",
              "      <td>1</td>\n",
              "    </tr>\n",
              "    <tr>\n",
              "      <th>2</th>\n",
              "      <td>1</td>\n",
              "      <td>0.884444</td>\n",
              "      <td>0.180995</td>\n",
              "      <td>0.597458</td>\n",
              "      <td>1</td>\n",
              "    </tr>\n",
              "    <tr>\n",
              "      <th>3</th>\n",
              "      <td>1</td>\n",
              "      <td>0.619048</td>\n",
              "      <td>0.043243</td>\n",
              "      <td>0.427835</td>\n",
              "      <td>1</td>\n",
              "    </tr>\n",
              "    <tr>\n",
              "      <th>4</th>\n",
              "      <td>1</td>\n",
              "      <td>0.920000</td>\n",
              "      <td>0.394366</td>\n",
              "      <td>0.775000</td>\n",
              "      <td>1</td>\n",
              "    </tr>\n",
              "    <tr>\n",
              "      <th>5</th>\n",
              "      <td>1</td>\n",
              "      <td>0.992674</td>\n",
              "      <td>0.973978</td>\n",
              "      <td>0.993056</td>\n",
              "      <td>1</td>\n",
              "    </tr>\n",
              "    <tr>\n",
              "      <th>6</th>\n",
              "      <td>0</td>\n",
              "      <td>0.412698</td>\n",
              "      <td>0.000000</td>\n",
              "      <td>0.346667</td>\n",
              "      <td>0</td>\n",
              "    </tr>\n",
              "    <tr>\n",
              "      <th>7</th>\n",
              "      <td>0</td>\n",
              "      <td>0.462687</td>\n",
              "      <td>0.000000</td>\n",
              "      <td>0.189320</td>\n",
              "      <td>0</td>\n",
              "    </tr>\n",
              "    <tr>\n",
              "      <th>8</th>\n",
              "      <td>0</td>\n",
              "      <td>0.581152</td>\n",
              "      <td>0.000000</td>\n",
              "      <td>0.247423</td>\n",
              "      <td>0</td>\n",
              "    </tr>\n",
              "    <tr>\n",
              "      <th>9</th>\n",
              "      <td>0</td>\n",
              "      <td>0.584211</td>\n",
              "      <td>0.000000</td>\n",
              "      <td>0.294416</td>\n",
              "      <td>0</td>\n",
              "    </tr>\n",
              "    <tr>\n",
              "      <th>10</th>\n",
              "      <td>0</td>\n",
              "      <td>0.566372</td>\n",
              "      <td>0.000000</td>\n",
              "      <td>0.258333</td>\n",
              "      <td>0</td>\n",
              "    </tr>\n",
              "    <tr>\n",
              "      <th>11</th>\n",
              "      <td>0</td>\n",
              "      <td>0.481481</td>\n",
              "      <td>0.022901</td>\n",
              "      <td>0.278912</td>\n",
              "      <td>0</td>\n",
              "    </tr>\n",
              "    <tr>\n",
              "      <th>12</th>\n",
              "      <td>1</td>\n",
              "      <td>0.619792</td>\n",
              "      <td>0.026596</td>\n",
              "      <td>0.341584</td>\n",
              "      <td>1</td>\n",
              "    </tr>\n",
              "    <tr>\n",
              "      <th>13</th>\n",
              "      <td>1</td>\n",
              "      <td>0.921739</td>\n",
              "      <td>0.654867</td>\n",
              "      <td>0.929412</td>\n",
              "      <td>1</td>\n",
              "    </tr>\n",
              "    <tr>\n",
              "      <th>14</th>\n",
              "      <td>1</td>\n",
              "      <td>1.000000</td>\n",
              "      <td>0.922481</td>\n",
              "      <td>1.000000</td>\n",
              "      <td>1</td>\n",
              "    </tr>\n",
              "    <tr>\n",
              "      <th>15</th>\n",
              "      <td>1</td>\n",
              "      <td>0.861538</td>\n",
              "      <td>0.062827</td>\n",
              "      <td>0.504717</td>\n",
              "      <td>1</td>\n",
              "    </tr>\n",
              "    <tr>\n",
              "      <th>16</th>\n",
              "      <td>1</td>\n",
              "      <td>0.626168</td>\n",
              "      <td>0.223975</td>\n",
              "      <td>0.558559</td>\n",
              "      <td>1</td>\n",
              "    </tr>\n",
              "    <tr>\n",
              "      <th>17</th>\n",
              "      <td>1</td>\n",
              "      <td>1.000000</td>\n",
              "      <td>0.968872</td>\n",
              "      <td>0.996700</td>\n",
              "      <td>1</td>\n",
              "    </tr>\n",
              "    <tr>\n",
              "      <th>18</th>\n",
              "      <td>0</td>\n",
              "      <td>0.383838</td>\n",
              "      <td>0.010309</td>\n",
              "      <td>0.178744</td>\n",
              "      <td>0</td>\n",
              "    </tr>\n",
              "    <tr>\n",
              "      <th>19</th>\n",
              "      <td>1</td>\n",
              "      <td>1.000000</td>\n",
              "      <td>0.944649</td>\n",
              "      <td>0.854671</td>\n",
              "      <td>1</td>\n",
              "    </tr>\n",
              "    <tr>\n",
              "      <th>20</th>\n",
              "      <td>0</td>\n",
              "      <td>0.613924</td>\n",
              "      <td>0.000000</td>\n",
              "      <td>0.298343</td>\n",
              "      <td>1</td>\n",
              "    </tr>\n",
              "    <tr>\n",
              "      <th>21</th>\n",
              "      <td>1</td>\n",
              "      <td>0.972763</td>\n",
              "      <td>0.830040</td>\n",
              "      <td>0.927083</td>\n",
              "      <td>1</td>\n",
              "    </tr>\n",
              "    <tr>\n",
              "      <th>22</th>\n",
              "      <td>1</td>\n",
              "      <td>0.962810</td>\n",
              "      <td>0.689076</td>\n",
              "      <td>0.909804</td>\n",
              "      <td>1</td>\n",
              "    </tr>\n",
              "    <tr>\n",
              "      <th>23</th>\n",
              "      <td>0</td>\n",
              "      <td>0.415254</td>\n",
              "      <td>0.000000</td>\n",
              "      <td>0.177419</td>\n",
              "      <td>0</td>\n",
              "    </tr>\n",
              "    <tr>\n",
              "      <th>24</th>\n",
              "      <td>0</td>\n",
              "      <td>0.532189</td>\n",
              "      <td>0.017467</td>\n",
              "      <td>0.245833</td>\n",
              "      <td>0</td>\n",
              "    </tr>\n",
              "  </tbody>\n",
              "</table>\n",
              "</div>"
            ],
            "text/plain": [
              "    true_label       c_1       c_5  lcs_word  pred_label\n",
              "0            1  1.000000  0.922280  0.820755           1\n",
              "1            1  0.765306  0.589655  0.621711           1\n",
              "2            1  0.884444  0.180995  0.597458           1\n",
              "3            1  0.619048  0.043243  0.427835           1\n",
              "4            1  0.920000  0.394366  0.775000           1\n",
              "5            1  0.992674  0.973978  0.993056           1\n",
              "6            0  0.412698  0.000000  0.346667           0\n",
              "7            0  0.462687  0.000000  0.189320           0\n",
              "8            0  0.581152  0.000000  0.247423           0\n",
              "9            0  0.584211  0.000000  0.294416           0\n",
              "10           0  0.566372  0.000000  0.258333           0\n",
              "11           0  0.481481  0.022901  0.278912           0\n",
              "12           1  0.619792  0.026596  0.341584           1\n",
              "13           1  0.921739  0.654867  0.929412           1\n",
              "14           1  1.000000  0.922481  1.000000           1\n",
              "15           1  0.861538  0.062827  0.504717           1\n",
              "16           1  0.626168  0.223975  0.558559           1\n",
              "17           1  1.000000  0.968872  0.996700           1\n",
              "18           0  0.383838  0.010309  0.178744           0\n",
              "19           1  1.000000  0.944649  0.854671           1\n",
              "20           0  0.613924  0.000000  0.298343           1\n",
              "21           1  0.972763  0.830040  0.927083           1\n",
              "22           1  0.962810  0.689076  0.909804           1\n",
              "23           0  0.415254  0.000000  0.177419           0\n",
              "24           0  0.532189  0.017467  0.245833           0"
            ]
          },
          "execution_count": 26,
          "metadata": {},
          "output_type": "execute_result"
        }
      ],
      "source": [
        "test_pred_df"
      ]
    }
  ],
  "metadata": {
    "kernelspec": {
      "display_name": "conda_pytorch_p36",
      "language": "python",
      "name": "conda_pytorch_p36"
    },
    "language_info": {
      "codemirror_mode": {
        "name": "ipython",
        "version": 3
      },
      "file_extension": ".py",
      "mimetype": "text/x-python",
      "name": "python",
      "nbconvert_exporter": "python",
      "pygments_lexer": "ipython3",
      "version": "3.6.5"
    },
    "colab": {
      "provenance": [],
      "toc_visible": true
    }
  },
  "nbformat": 4,
  "nbformat_minor": 0
}